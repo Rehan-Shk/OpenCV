{
 "cells": [
  {
   "cell_type": "code",
   "execution_count": 10,
   "id": "9936c213-89ea-45a9-b645-8b29110bce5b",
   "metadata": {},
   "outputs": [],
   "source": [
    "import cv2"
   ]
  },
  {
   "cell_type": "code",
   "execution_count": 11,
   "id": "fd4e1414-f289-42e7-87a4-27bec17dbfee",
   "metadata": {},
   "outputs": [
    {
     "name": "stderr",
     "output_type": "stream",
     "text": [
      "[ WARN:0@890.979] global cap_gstreamer.cpp:1173 isPipelinePlaying OpenCV | GStreamer warning: GStreamer: pipeline have not been created\n"
     ]
    }
   ],
   "source": [
    "capture = cv2.VideoCapture(0)\n",
    "\n",
    "frame_width = capture.get(cv2.CAP_PROP_FRAME_WIDTH)\n",
    "frame_height = capture.get(cv2.CAP_PROP_FRAME_HEIGHT)\n",
    "fps = capture.get(cv2.CAP_PROP_FPS)"
   ]
  },
  {
   "cell_type": "code",
   "execution_count": 12,
   "id": "ea2d4503-5c5b-447f-bf8a-68fe08ec944e",
   "metadata": {},
   "outputs": [],
   "source": [
    "\"\"\" \n",
    "FourCC is a 4-byte code used to specify the video codec and it is\n",
    "platform dependent!\n",
    "In this case, define the codec XVID \n",
    "\"\"\"\n",
    "\n",
    "fourcc = cv2.VideoWriter_fourcc(*'mp4v')\n",
    "\n",
    "\"\"\" \n",
    "Create VideoWriter object. We use the same properties as the input camera.\n",
    "Last argument is False to write the video in grayscale. True otherwise (write the video in color)\n",
    "\"\"\"\n",
    "\n",
    "out_gray = cv2.VideoWriter('webcam.mp4', fourcc, int(fps), (int(frame_width), int(frame_height)), False)"
   ]
  },
  {
   "cell_type": "code",
   "execution_count": 13,
   "id": "5539e890-b659-4ecb-9339-86c34e9638d6",
   "metadata": {},
   "outputs": [],
   "source": [
    "while capture.isOpened():\n",
    "    ret, frame = capture.read()\n",
    "    if ret is True:\n",
    "        gray_frame = cv2.cvtColor(frame, cv2.COLOR_BGR2GRAY)\n",
    "        out_gray.write(gray_frame)\n",
    "        cv2.imshow('gray', gray_frame)\n",
    "        if cv2.waitKey(1) & 0xFF == ord('q'):\n",
    "            break\n",
    "    else:\n",
    "        break\n",
    "\n",
    "capture.release()\n",
    "out_gray.release()\n",
    "cv2.destroyAllWindows()"
   ]
  },
  {
   "cell_type": "code",
   "execution_count": null,
   "id": "9435e272-1bf0-49f0-811e-ea2cbedad679",
   "metadata": {},
   "outputs": [],
   "source": []
  }
 ],
 "metadata": {
  "kernelspec": {
   "display_name": "Python 3 (ipykernel)",
   "language": "python",
   "name": "python3"
  },
  "language_info": {
   "codemirror_mode": {
    "name": "ipython",
    "version": 3
   },
   "file_extension": ".py",
   "mimetype": "text/x-python",
   "name": "python",
   "nbconvert_exporter": "python",
   "pygments_lexer": "ipython3",
   "version": "3.10.14"
  }
 },
 "nbformat": 4,
 "nbformat_minor": 5
}
