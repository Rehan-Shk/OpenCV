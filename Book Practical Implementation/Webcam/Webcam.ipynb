{
 "cells": [
  {
   "cell_type": "code",
   "execution_count": 2,
   "id": "3b3f590f-639f-461a-ae32-8c5441e2e9a6",
   "metadata": {},
   "outputs": [],
   "source": [
    "import cv2"
   ]
  },
  {
   "cell_type": "code",
   "execution_count": 24,
   "id": "bff39c7c-dd5a-4b2b-8df7-adebc93a9b4c",
   "metadata": {},
   "outputs": [
    {
     "name": "stderr",
     "output_type": "stream",
     "text": [
      "[ WARN:0@2181.986] global cap_gstreamer.cpp:1173 isPipelinePlaying OpenCV | GStreamer warning: GStreamer: pipeline have not been created\n"
     ]
    }
   ],
   "source": [
    "capture = cv2.VideoCapture(0) # Laptop Camera\n",
    "#capture = cv2.VideoCapture(1) # External Webcam\n",
    "#capture = cv2.VideoCapture('http://115.179.100.76:8080/SnapshotJPEG?Resolution=640x480&amp;Quality=Clarity&amp;1727950009') # IP Camera"
   ]
  },
  {
   "cell_type": "code",
   "execution_count": 25,
   "id": "3736f40d-3c94-4d5f-b502-b405f4b201a7",
   "metadata": {},
   "outputs": [
    {
     "name": "stdout",
     "output_type": "stream",
     "text": [
      "Frame width : 640.0\n",
      "Frame Height : 480.0\n",
      "Video FPS : 30.0\n"
     ]
    }
   ],
   "source": [
    "frame_width = capture.get(cv2.CAP_PROP_FRAME_WIDTH)\n",
    "frame_height = capture.get(cv2.CAP_PROP_FRAME_HEIGHT)\n",
    "fps = capture.get(cv2.CAP_PROP_FPS)\n",
    "\n",
    "print(f'Frame width : {frame_width}')\n",
    "print(f'Frame Height : {frame_height}')\n",
    "print(f'Video FPS : {fps}')"
   ]
  },
  {
   "cell_type": "code",
   "execution_count": 26,
   "id": "8fc74111-2293-4fe1-b123-a6a9e012b330",
   "metadata": {},
   "outputs": [],
   "source": [
    "if capture.isOpened() is False:\n",
    "    print('Error Opening the camera')\n",
    "\n",
    "while capture.isOpened():\n",
    "    ret, frame = capture.read()\n",
    "    \n",
    "    if ret:\n",
    "        cv2.imshow('Frame', frame)\n",
    "        gray_frame = cv2.cvtColor(frame, cv2.COLOR_BGR2GRAY)\n",
    "        cv2.imshow('Gray Frame', gray_frame)\n",
    "\n",
    "        if cv2.waitKey(20) & 0xFF == ord('q'):\n",
    "            break\n",
    "    else:\n",
    "        break\n",
    "\n",
    "capture.release()\n",
    "cv2.destroyAllWindows()"
   ]
  },
  {
   "cell_type": "code",
   "execution_count": null,
   "id": "68ddc89d-8597-4b51-8981-a17012c54dc9",
   "metadata": {},
   "outputs": [],
   "source": []
  }
 ],
 "metadata": {
  "kernelspec": {
   "display_name": "Python 3 (ipykernel)",
   "language": "python",
   "name": "python3"
  },
  "language_info": {
   "codemirror_mode": {
    "name": "ipython",
    "version": 3
   },
   "file_extension": ".py",
   "mimetype": "text/x-python",
   "name": "python",
   "nbconvert_exporter": "python",
   "pygments_lexer": "ipython3",
   "version": "3.10.14"
  }
 },
 "nbformat": 4,
 "nbformat_minor": 5
}
